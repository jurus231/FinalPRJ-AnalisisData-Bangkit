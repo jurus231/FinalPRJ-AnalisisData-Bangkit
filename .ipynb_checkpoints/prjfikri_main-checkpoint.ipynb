{
 "cells": [
  {
   "cell_type": "markdown",
   "metadata": {
    "id": "H9wADwK78DCz"
   },
   "source": [
    "# Proyek Analisis Data: E-Commerce Public Dataset\n",
    "- **Nama:** Fikri Khoiruddin\n",
    "- **Email:** fikrikhoiruddin28@gmail.com\n",
    "- **ID Dicoding:** fikrikhoiruddin28"
   ]
  },
  {
   "cell_type": "markdown",
   "metadata": {
    "id": "eE0raob58DC0"
   },
   "source": [
    "## Menentukan Pertanyaan Bisnis"
   ]
  },
  {
   "cell_type": "markdown",
   "metadata": {
    "id": "GmQeQ5YF8DC0"
   },
   "source": [
    "- Pertanyaan 1 : Siapa Customer yang paling banyak membeli?\n",
    "- Pertanyaan 2 : Daerah mana yang paling banyak belanja?"
   ]
  },
  {
   "cell_type": "markdown",
   "metadata": {
    "id": "H-z4QGlO8DC1"
   },
   "source": [
    "## Import Semua Packages/Library yang Digunakan"
   ]
  },
  {
   "cell_type": "code",
   "execution_count": 9,
   "metadata": {
    "id": "FVYwaObI8DC1"
   },
   "outputs": [],
   "source": [
    "import numpy as np\n",
    "import pandas as pd\n",
    "import matplotlib.pyplot as plt\n",
    "import seaborn as sns"
   ]
  },
  {
   "cell_type": "markdown",
   "metadata": {
    "id": "h_Sh51Xy8DC1"
   },
   "source": [
    "## Data Wrangling"
   ]
  },
  {
   "cell_type": "markdown",
   "metadata": {
    "id": "sXU2GBYu8DC1"
   },
   "source": [
    "### Gathering Data"
   ]
  },
  {
   "cell_type": "markdown",
   "metadata": {},
   "source": [
    "#**Gathering Data**\n",
    "Pada tahap ini saya akan read dataset yang akan saya pakai dalam Project Data Analysis ini."
   ]
  },
  {
   "cell_type": "code",
   "execution_count": 10,
   "metadata": {
    "id": "zjCBk1BI8DC1"
   },
   "outputs": [
    {
     "name": "stdout",
     "output_type": "stream",
     "text": [
      "                            customer_id                customer_unique_id  \\\n",
      "0      06b8999e2fba1a1fbc88172c00ba8bc7  861eff4711a542e4b93843c6dd7febb0   \n",
      "1      18955e83d337fd6b2def6b18a428ac77  290c77bc529b7ac935b93aa66c333dc3   \n",
      "2      4e7b3e00288586ebd08712fdd0374a03  060e732b5b29e8181a18229c7b0b2b5e   \n",
      "3      b2b6027bc5c5109e529d4dc6358b12c3  259dac757896d24d7702b9acbbff3f3c   \n",
      "4      4f2d8ab171c80ec8364f7c12e35b23ad  345ecd01c38d18a9036ed96c73b8d066   \n",
      "...                                 ...                               ...   \n",
      "99436  17ddf5dd5d51696bb3d7c6291687be6f  1a29b476fee25c95fbafc67c5ac95cf8   \n",
      "99437  e7b71a9017aa05c9a7fd292d714858e8  d52a67c98be1cf6a5c84435bd38d095d   \n",
      "99438  5e28dfe12db7fb50a4b2f691faecea5e  e9f50caf99f032f0bf3c55141f019d99   \n",
      "99439  56b18e2166679b8a959d72dd06da27f9  73c2643a0a458b49f58cea58833b192e   \n",
      "99440  274fa6071e5e17fe303b9748641082c8  84732c5050c01db9b23e19ba39899398   \n",
      "\n",
      "       customer_zip_code_prefix          customer_city customer_state  \n",
      "0                         14409                 franca             SP  \n",
      "1                          9790  sao bernardo do campo             SP  \n",
      "2                          1151              sao paulo             SP  \n",
      "3                          8775        mogi das cruzes             SP  \n",
      "4                         13056               campinas             SP  \n",
      "...                         ...                    ...            ...  \n",
      "99436                      3937              sao paulo             SP  \n",
      "99437                      6764        taboao da serra             SP  \n",
      "99438                     60115              fortaleza             CE  \n",
      "99439                     92120                 canoas             RS  \n",
      "99440                      6703                  cotia             SP  \n",
      "\n",
      "[99441 rows x 5 columns]\n"
     ]
    }
   ],
   "source": [
    "cust_df = pd.read_csv(\"./Data/olist_customers_dataset.csv\")\n",
    "print(cust_df)"
   ]
  },
  {
   "cell_type": "code",
   "execution_count": 11,
   "metadata": {},
   "outputs": [
    {
     "name": "stdout",
     "output_type": "stream",
     "text": [
      "         geolocation_zip_code_prefix  geolocation_lat  geolocation_lng  \\\n",
      "0                               1037       -23.545621       -46.639292   \n",
      "1                               1046       -23.546081       -46.644820   \n",
      "2                               1046       -23.546129       -46.642951   \n",
      "3                               1041       -23.544392       -46.639499   \n",
      "4                               1035       -23.541578       -46.641607   \n",
      "...                              ...              ...              ...   \n",
      "1000158                        99950       -28.068639       -52.010705   \n",
      "1000159                        99900       -27.877125       -52.224882   \n",
      "1000160                        99950       -28.071855       -52.014716   \n",
      "1000161                        99980       -28.388932       -51.846871   \n",
      "1000162                        99950       -28.070104       -52.018658   \n",
      "\n",
      "        geolocation_city geolocation_state  \n",
      "0              sao paulo                SP  \n",
      "1              sao paulo                SP  \n",
      "2              sao paulo                SP  \n",
      "3              sao paulo                SP  \n",
      "4              sao paulo                SP  \n",
      "...                  ...               ...  \n",
      "1000158         tapejara                RS  \n",
      "1000159   getulio vargas                RS  \n",
      "1000160         tapejara                RS  \n",
      "1000161  david canabarro                RS  \n",
      "1000162         tapejara                RS  \n",
      "\n",
      "[1000163 rows x 5 columns]\n"
     ]
    }
   ],
   "source": [
    "geoloc_df = pd.read_csv(\"./Data/olist_geolocation_dataset.csv\")\n",
    "print(geoloc_df)"
   ]
  },
  {
   "cell_type": "code",
   "execution_count": 12,
   "metadata": {},
   "outputs": [
    {
     "name": "stdout",
     "output_type": "stream",
     "text": [
      "                                order_id  order_item_id  \\\n",
      "0       00010242fe8c5a6d1ba2dd792cb16214              1   \n",
      "1       00018f77f2f0320c557190d7a144bdd3              1   \n",
      "2       000229ec398224ef6ca0657da4fc703e              1   \n",
      "3       00024acbcdf0a6daa1e931b038114c75              1   \n",
      "4       00042b26cf59d7ce69dfabb4e55b4fd9              1   \n",
      "...                                  ...            ...   \n",
      "112645  fffc94f6ce00a00581880bf54a75a037              1   \n",
      "112646  fffcd46ef2263f404302a634eb57f7eb              1   \n",
      "112647  fffce4705a9662cd70adb13d4a31832d              1   \n",
      "112648  fffe18544ffabc95dfada21779c9644f              1   \n",
      "112649  fffe41c64501cc87c801fd61db3f6244              1   \n",
      "\n",
      "                              product_id                         seller_id  \\\n",
      "0       4244733e06e7ecb4970a6e2683c13e61  48436dade18ac8b2bce089ec2a041202   \n",
      "1       e5f2d52b802189ee658865ca93d83a8f  dd7ddc04e1b6c2c614352b383efe2d36   \n",
      "2       c777355d18b72b67abbeef9df44fd0fd  5b51032eddd242adc84c38acab88f23d   \n",
      "3       7634da152a4610f1595efa32f14722fc  9d7a1d34a5052409006425275ba1c2b4   \n",
      "4       ac6c3623068f30de03045865e4e10089  df560393f3a51e74553ab94004ba5c87   \n",
      "...                                  ...                               ...   \n",
      "112645  4aa6014eceb682077f9dc4bffebc05b0  b8bc237ba3788b23da09c0f1f3a3288c   \n",
      "112646  32e07fd915822b0765e448c4dd74c828  f3c38ab652836d21de61fb8314b69182   \n",
      "112647  72a30483855e2eafc67aee5dc2560482  c3cfdc648177fdbbbb35635a37472c53   \n",
      "112648  9c422a519119dcad7575db5af1ba540e  2b3e4a2a3ea8e01938cabda2a3e5cc79   \n",
      "112649  350688d9dc1e75ff97be326363655e01  f7ccf836d21b2fb1de37564105216cc1   \n",
      "\n",
      "        shipping_limit_date   price  freight_value  \n",
      "0       2017-09-19 09:45:35   58.90          13.29  \n",
      "1       2017-05-03 11:05:13  239.90          19.93  \n",
      "2       2018-01-18 14:48:30  199.00          17.87  \n",
      "3       2018-08-15 10:10:18   12.99          12.79  \n",
      "4       2017-02-13 13:57:51  199.90          18.14  \n",
      "...                     ...     ...            ...  \n",
      "112645  2018-05-02 04:11:01  299.99          43.41  \n",
      "112646  2018-07-20 04:31:48  350.00          36.53  \n",
      "112647  2017-10-30 17:14:25   99.90          16.95  \n",
      "112648  2017-08-21 00:04:32   55.99           8.72  \n",
      "112649  2018-06-12 17:10:13   43.00          12.79  \n",
      "\n",
      "[112650 rows x 7 columns]\n"
     ]
    }
   ],
   "source": [
    "order_item_df = pd.read_csv(\"./Data/olist_order_items_dataset.csv\")\n",
    "print(order_item_df)"
   ]
  },
  {
   "cell_type": "code",
   "execution_count": 13,
   "metadata": {},
   "outputs": [
    {
     "name": "stdout",
     "output_type": "stream",
     "text": [
      "                                order_id  payment_sequential payment_type  \\\n",
      "0       b81ef226f3fe1789b1e8b2acac839d17                   1  credit_card   \n",
      "1       a9810da82917af2d9aefd1278f1dcfa0                   1  credit_card   \n",
      "2       25e8ea4e93396b6fa0d3dd708e76c1bd                   1  credit_card   \n",
      "3       ba78997921bbcdc1373bb41e913ab953                   1  credit_card   \n",
      "4       42fdf880ba16b47b59251dd489d4441a                   1  credit_card   \n",
      "...                                  ...                 ...          ...   \n",
      "103881  0406037ad97740d563a178ecc7a2075c                   1       boleto   \n",
      "103882  7b905861d7c825891d6347454ea7863f                   1  credit_card   \n",
      "103883  32609bbb3dd69b3c066a6860554a77bf                   1  credit_card   \n",
      "103884  b8b61059626efa996a60be9bb9320e10                   1  credit_card   \n",
      "103885  28bbae6599b09d39ca406b747b6632b1                   1       boleto   \n",
      "\n",
      "        payment_installments  payment_value  \n",
      "0                          8          99.33  \n",
      "1                          1          24.39  \n",
      "2                          1          65.71  \n",
      "3                          8         107.78  \n",
      "4                          2         128.45  \n",
      "...                      ...            ...  \n",
      "103881                     1         363.31  \n",
      "103882                     2          96.80  \n",
      "103883                     1          47.77  \n",
      "103884                     5         369.54  \n",
      "103885                     1         191.58  \n",
      "\n",
      "[103886 rows x 5 columns]\n"
     ]
    }
   ],
   "source": [
    "order_payment_df = pd.read_csv(\"./Data/olist_order_payments_dataset.csv\")\n",
    "print(order_payment_df)"
   ]
  },
  {
   "cell_type": "code",
   "execution_count": 14,
   "metadata": {},
   "outputs": [
    {
     "name": "stdout",
     "output_type": "stream",
     "text": [
      "                              review_id                          order_id  \\\n",
      "0      7bc2406110b926393aa56f80a40eba40  73fc7af87114b39712e6da79b0a377eb   \n",
      "1      80e641a11e56f04c1ad469d5645fdfde  a548910a1c6147796b98fdf73dbeba33   \n",
      "2      228ce5500dc1d8e020d8d1322874b6f0  f9e4b658b201a9f2ecdecbb34bed034b   \n",
      "3      e64fb393e7b32834bb789ff8bb30750e  658677c97b385a9be170737859d3511b   \n",
      "4      f7c4243c7fe1938f181bec41a392bdeb  8e6bfb81e283fa7e4f11123a3fb894f1   \n",
      "...                                 ...                               ...   \n",
      "99219  574ed12dd733e5fa530cfd4bbf39d7c9  2a8c23fee101d4d5662fa670396eb8da   \n",
      "99220  f3897127253a9592a73be9bdfdf4ed7a  22ec9f0669f784db00fa86d035cf8602   \n",
      "99221  b3de70c89b1510c4cd3d0649fd302472  55d4004744368f5571d1f590031933e4   \n",
      "99222  1adeb9d84d72fe4e337617733eb85149  7725825d039fc1f0ceb7635e3f7d9206   \n",
      "99223  efe49f1d6f951dd88b51e6ccd4cc548f  90531360ecb1eec2a1fbb265a0db0508   \n",
      "\n",
      "       review_score review_comment_title  \\\n",
      "0                 4                  NaN   \n",
      "1                 5                  NaN   \n",
      "2                 5                  NaN   \n",
      "3                 5                  NaN   \n",
      "4                 5                  NaN   \n",
      "...             ...                  ...   \n",
      "99219             5                  NaN   \n",
      "99220             5                  NaN   \n",
      "99221             5                  NaN   \n",
      "99222             4                  NaN   \n",
      "99223             1                  NaN   \n",
      "\n",
      "                                  review_comment_message review_creation_date  \\\n",
      "0                                                    NaN  2018-01-18 00:00:00   \n",
      "1                                                    NaN  2018-03-10 00:00:00   \n",
      "2                                                    NaN  2018-02-17 00:00:00   \n",
      "3                  Recebi bem antes do prazo estipulado.  2017-04-21 00:00:00   \n",
      "4      Parabéns lojas lannister adorei comprar pela I...  2018-03-01 00:00:00   \n",
      "...                                                  ...                  ...   \n",
      "99219                                                NaN  2018-07-07 00:00:00   \n",
      "99220                                                NaN  2017-12-09 00:00:00   \n",
      "99221  Excelente mochila, entrega super rápida. Super...  2018-03-22 00:00:00   \n",
      "99222                                                NaN  2018-07-01 00:00:00   \n",
      "99223  meu produto chegou e ja tenho que devolver, po...  2017-07-03 00:00:00   \n",
      "\n",
      "      review_answer_timestamp  \n",
      "0         2018-01-18 21:46:59  \n",
      "1         2018-03-11 03:05:13  \n",
      "2         2018-02-18 14:36:24  \n",
      "3         2017-04-21 22:02:06  \n",
      "4         2018-03-02 10:26:53  \n",
      "...                       ...  \n",
      "99219     2018-07-14 17:18:30  \n",
      "99220     2017-12-11 20:06:42  \n",
      "99221     2018-03-23 09:10:43  \n",
      "99222     2018-07-02 12:59:13  \n",
      "99223     2017-07-03 21:01:49  \n",
      "\n",
      "[99224 rows x 7 columns]\n"
     ]
    }
   ],
   "source": [
    "order_reviews_df = pd.read_csv(\"./Data/olist_order_reviews_dataset.csv\")\n",
    "print(order_reviews_df)"
   ]
  },
  {
   "cell_type": "code",
   "execution_count": 15,
   "metadata": {},
   "outputs": [
    {
     "name": "stdout",
     "output_type": "stream",
     "text": [
      "                               order_id                       customer_id  \\\n",
      "0      e481f51cbdc54678b7cc49136f2d6af7  9ef432eb6251297304e76186b10a928d   \n",
      "1      53cdb2fc8bc7dce0b6741e2150273451  b0830fb4747a6c6d20dea0b8c802d7ef   \n",
      "2      47770eb9100c2d0c44946d9cf07ec65d  41ce2a54c0b03bf3443c3d931a367089   \n",
      "3      949d5b44dbf5de918fe9c16f97b45f8a  f88197465ea7920adcdbec7375364d82   \n",
      "4      ad21c59c0840e6cb83a9ceb5573f8159  8ab97904e6daea8866dbdbc4fb7aad2c   \n",
      "...                                 ...                               ...   \n",
      "99436  9c5dedf39a927c1b2549525ed64a053c  39bd1228ee8140590ac3aca26f2dfe00   \n",
      "99437  63943bddc261676b46f01ca7ac2f7bd8  1fca14ff2861355f6e5f14306ff977a7   \n",
      "99438  83c1379a015df1e13d02aae0204711ab  1aa71eb042121263aafbe80c1b562c9c   \n",
      "99439  11c177c8e97725db2631073c19f07b62  b331b74b18dc79bcdf6532d51e1637c1   \n",
      "99440  66dea50a8b16d9b4dee7af250b4be1a5  edb027a75a1449115f6b43211ae02a24   \n",
      "\n",
      "      order_status order_purchase_timestamp    order_approved_at  \\\n",
      "0        delivered      2017-10-02 10:56:33  2017-10-02 11:07:15   \n",
      "1        delivered      2018-07-24 20:41:37  2018-07-26 03:24:27   \n",
      "2        delivered      2018-08-08 08:38:49  2018-08-08 08:55:23   \n",
      "3        delivered      2017-11-18 19:28:06  2017-11-18 19:45:59   \n",
      "4        delivered      2018-02-13 21:18:39  2018-02-13 22:20:29   \n",
      "...            ...                      ...                  ...   \n",
      "99436    delivered      2017-03-09 09:54:05  2017-03-09 09:54:05   \n",
      "99437    delivered      2018-02-06 12:58:58  2018-02-06 13:10:37   \n",
      "99438    delivered      2017-08-27 14:46:43  2017-08-27 15:04:16   \n",
      "99439    delivered      2018-01-08 21:28:27  2018-01-08 21:36:21   \n",
      "99440    delivered      2018-03-08 20:57:30  2018-03-09 11:20:28   \n",
      "\n",
      "      order_delivered_carrier_date order_delivered_customer_date  \\\n",
      "0              2017-10-04 19:55:00           2017-10-10 21:25:13   \n",
      "1              2018-07-26 14:31:00           2018-08-07 15:27:45   \n",
      "2              2018-08-08 13:50:00           2018-08-17 18:06:29   \n",
      "3              2017-11-22 13:39:59           2017-12-02 00:28:42   \n",
      "4              2018-02-14 19:46:34           2018-02-16 18:17:02   \n",
      "...                            ...                           ...   \n",
      "99436          2017-03-10 11:18:03           2017-03-17 15:08:01   \n",
      "99437          2018-02-07 23:22:42           2018-02-28 17:37:56   \n",
      "99438          2017-08-28 20:52:26           2017-09-21 11:24:17   \n",
      "99439          2018-01-12 15:35:03           2018-01-25 23:32:54   \n",
      "99440          2018-03-09 22:11:59           2018-03-16 13:08:30   \n",
      "\n",
      "      order_estimated_delivery_date  \n",
      "0               2017-10-18 00:00:00  \n",
      "1               2018-08-13 00:00:00  \n",
      "2               2018-09-04 00:00:00  \n",
      "3               2017-12-15 00:00:00  \n",
      "4               2018-02-26 00:00:00  \n",
      "...                             ...  \n",
      "99436           2017-03-28 00:00:00  \n",
      "99437           2018-03-02 00:00:00  \n",
      "99438           2017-09-27 00:00:00  \n",
      "99439           2018-02-15 00:00:00  \n",
      "99440           2018-04-03 00:00:00  \n",
      "\n",
      "[99441 rows x 8 columns]\n"
     ]
    }
   ],
   "source": [
    "orders_df = pd.read_csv(\"./Data/olist_orders_dataset.csv\")\n",
    "print(orders_df)"
   ]
  },
  {
   "cell_type": "code",
   "execution_count": 16,
   "metadata": {},
   "outputs": [
    {
     "name": "stdout",
     "output_type": "stream",
     "text": [
      "                             product_id              product_category_name  \\\n",
      "0      1e9e8ef04dbcff4541ed26657ea517e5                         perfumaria   \n",
      "1      3aa071139cb16b67ca9e5dea641aaa2f                              artes   \n",
      "2      96bd76ec8810374ed1b65e291975717f                      esporte_lazer   \n",
      "3      cef67bcfe19066a932b7673e239eb23d                              bebes   \n",
      "4      9dc1a7de274444849c219cff195d0b71              utilidades_domesticas   \n",
      "...                                 ...                                ...   \n",
      "32946  a0b7d5a992ccda646f2d34e418fff5a0                   moveis_decoracao   \n",
      "32947  bf4538d88321d0fd4412a93c974510e6  construcao_ferramentas_iluminacao   \n",
      "32948  9a7c6041fa9592d9d9ef6cfe62a71f8c                    cama_mesa_banho   \n",
      "32949  83808703fc0706a22e264b9d75f04a2e             informatica_acessorios   \n",
      "32950  106392145fca363410d287a815be6de4                    cama_mesa_banho   \n",
      "\n",
      "       product_name_lenght  product_description_lenght  product_photos_qty  \\\n",
      "0                     40.0                       287.0                 1.0   \n",
      "1                     44.0                       276.0                 1.0   \n",
      "2                     46.0                       250.0                 1.0   \n",
      "3                     27.0                       261.0                 1.0   \n",
      "4                     37.0                       402.0                 4.0   \n",
      "...                    ...                         ...                 ...   \n",
      "32946                 45.0                        67.0                 2.0   \n",
      "32947                 41.0                       971.0                 1.0   \n",
      "32948                 50.0                       799.0                 1.0   \n",
      "32949                 60.0                       156.0                 2.0   \n",
      "32950                 58.0                       309.0                 1.0   \n",
      "\n",
      "       product_weight_g  product_length_cm  product_height_cm  \\\n",
      "0                 225.0               16.0               10.0   \n",
      "1                1000.0               30.0               18.0   \n",
      "2                 154.0               18.0                9.0   \n",
      "3                 371.0               26.0                4.0   \n",
      "4                 625.0               20.0               17.0   \n",
      "...                 ...                ...                ...   \n",
      "32946           12300.0               40.0               40.0   \n",
      "32947            1700.0               16.0               19.0   \n",
      "32948            1400.0               27.0                7.0   \n",
      "32949             700.0               31.0               13.0   \n",
      "32950            2083.0               12.0                2.0   \n",
      "\n",
      "       product_width_cm  \n",
      "0                  14.0  \n",
      "1                  20.0  \n",
      "2                  15.0  \n",
      "3                  26.0  \n",
      "4                  13.0  \n",
      "...                 ...  \n",
      "32946              40.0  \n",
      "32947              16.0  \n",
      "32948              27.0  \n",
      "32949              20.0  \n",
      "32950               7.0  \n",
      "\n",
      "[32951 rows x 9 columns]\n"
     ]
    }
   ],
   "source": [
    "products_df = pd.read_csv(\"./Data/olist_products_dataset.csv\")\n",
    "print(products_df)"
   ]
  },
  {
   "cell_type": "code",
   "execution_count": 17,
   "metadata": {},
   "outputs": [
    {
     "name": "stdout",
     "output_type": "stream",
     "text": [
      "                             seller_id  seller_zip_code_prefix  \\\n",
      "0     3442f8959a84dea7ee197c632cb2df15                   13023   \n",
      "1     d1b65fc7debc3361ea86b5f14c68d2e2                   13844   \n",
      "2     ce3ad9de960102d0677a81f5d0bb7b2d                   20031   \n",
      "3     c0f3eea2e14555b6faeea3dd58c1b1c3                    4195   \n",
      "4     51a04a8a6bdcb23deccc82b0b80742cf                   12914   \n",
      "...                                ...                     ...   \n",
      "3090  98dddbc4601dd4443ca174359b237166                   87111   \n",
      "3091  f8201cab383e484733266d1906e2fdfa                   88137   \n",
      "3092  74871d19219c7d518d0090283e03c137                    4650   \n",
      "3093  e603cf3fec55f8697c9059638d6c8eb5                   96080   \n",
      "3094  9e25199f6ef7e7c347120ff175652c3b                   12051   \n",
      "\n",
      "            seller_city seller_state  \n",
      "0              campinas           SP  \n",
      "1            mogi guacu           SP  \n",
      "2        rio de janeiro           RJ  \n",
      "3             sao paulo           SP  \n",
      "4     braganca paulista           SP  \n",
      "...                 ...          ...  \n",
      "3090            sarandi           PR  \n",
      "3091            palhoca           SC  \n",
      "3092          sao paulo           SP  \n",
      "3093            pelotas           RS  \n",
      "3094            taubate           SP  \n",
      "\n",
      "[3095 rows x 4 columns]\n"
     ]
    }
   ],
   "source": [
    "sellers_df = pd.read_csv(\"./Data/olist_sellers_dataset.csv\")\n",
    "print(sellers_df)"
   ]
  },
  {
   "cell_type": "code",
   "execution_count": 18,
   "metadata": {},
   "outputs": [
    {
     "name": "stdout",
     "output_type": "stream",
     "text": [
      "            product_category_name product_category_name_english\n",
      "0                    beleza_saude                 health_beauty\n",
      "1          informatica_acessorios         computers_accessories\n",
      "2                      automotivo                          auto\n",
      "3                 cama_mesa_banho                bed_bath_table\n",
      "4                moveis_decoracao               furniture_decor\n",
      "..                            ...                           ...\n",
      "66                         flores                       flowers\n",
      "67             artes_e_artesanato         arts_and_craftmanship\n",
      "68                fraldas_higiene           diapers_and_hygiene\n",
      "69  fashion_roupa_infanto_juvenil     fashion_childrens_clothes\n",
      "70             seguros_e_servicos         security_and_services\n",
      "\n",
      "[71 rows x 2 columns]\n"
     ]
    }
   ],
   "source": [
    "translate_df = pd.read_csv(\"./Data/product_category_name_translation.csv\")\n",
    "print(translate_df)"
   ]
  },
  {
   "cell_type": "code",
   "execution_count": 19,
   "metadata": {},
   "outputs": [
    {
     "name": "stdout",
     "output_type": "stream",
     "text": [
      "                             product_id      product_category_name  \\\n",
      "0      1e9e8ef04dbcff4541ed26657ea517e5                  perfumery   \n",
      "1      3aa071139cb16b67ca9e5dea641aaa2f                        art   \n",
      "2      96bd76ec8810374ed1b65e291975717f             sports_leisure   \n",
      "3      cef67bcfe19066a932b7673e239eb23d                       baby   \n",
      "4      9dc1a7de274444849c219cff195d0b71                 housewares   \n",
      "...                                 ...                        ...   \n",
      "32946  a0b7d5a992ccda646f2d34e418fff5a0            furniture_decor   \n",
      "32947  bf4538d88321d0fd4412a93c974510e6  construction_tools_lights   \n",
      "32948  9a7c6041fa9592d9d9ef6cfe62a71f8c             bed_bath_table   \n",
      "32949  83808703fc0706a22e264b9d75f04a2e      computers_accessories   \n",
      "32950  106392145fca363410d287a815be6de4             bed_bath_table   \n",
      "\n",
      "       product_name_lenght  product_description_lenght  product_photos_qty  \\\n",
      "0                     40.0                       287.0                 1.0   \n",
      "1                     44.0                       276.0                 1.0   \n",
      "2                     46.0                       250.0                 1.0   \n",
      "3                     27.0                       261.0                 1.0   \n",
      "4                     37.0                       402.0                 4.0   \n",
      "...                    ...                         ...                 ...   \n",
      "32946                 45.0                        67.0                 2.0   \n",
      "32947                 41.0                       971.0                 1.0   \n",
      "32948                 50.0                       799.0                 1.0   \n",
      "32949                 60.0                       156.0                 2.0   \n",
      "32950                 58.0                       309.0                 1.0   \n",
      "\n",
      "       product_weight_g  product_length_cm  product_height_cm  \\\n",
      "0                 225.0               16.0               10.0   \n",
      "1                1000.0               30.0               18.0   \n",
      "2                 154.0               18.0                9.0   \n",
      "3                 371.0               26.0                4.0   \n",
      "4                 625.0               20.0               17.0   \n",
      "...                 ...                ...                ...   \n",
      "32946           12300.0               40.0               40.0   \n",
      "32947            1700.0               16.0               19.0   \n",
      "32948            1400.0               27.0                7.0   \n",
      "32949             700.0               31.0               13.0   \n",
      "32950            2083.0               12.0                2.0   \n",
      "\n",
      "       product_width_cm  \n",
      "0                  14.0  \n",
      "1                  20.0  \n",
      "2                  15.0  \n",
      "3                  26.0  \n",
      "4                  13.0  \n",
      "...                 ...  \n",
      "32946              40.0  \n",
      "32947              16.0  \n",
      "32948              27.0  \n",
      "32949              20.0  \n",
      "32950               7.0  \n",
      "\n",
      "[32951 rows x 9 columns]\n"
     ]
    }
   ],
   "source": [
    "products_eng_df = pd.merge(products_df, translate_df, on=\"product_category_name\", how=\"left\")\n",
    "\n",
    "products_eng_df['product_category_name'] = products_eng_df['product_category_name_english']\n",
    "\n",
    "products_eng_df = products_eng_df.drop(columns=[\"product_category_name_english\"])\n",
    "\n",
    "print(products_eng_df)"
   ]
  },
  {
   "cell_type": "markdown",
   "metadata": {},
   "source": [
    "Men-Translate Nama Produk dalam products_df menjadi Berbahasa Inggris dengaan melakukan merger bersama translate_df"
   ]
  },
  {
   "cell_type": "markdown",
   "metadata": {
    "id": "MMi6xGaDkbCi"
   },
   "source": [
    "**Insight:**\n",
    "- Data yang dikumpulkan berdasarkan dari Situs E-Commerce yang bernama \"Olist\" bertempat dan beroperasi kebanyakan di Brazil, ada berbagai macam  jenis informasi dari dataset ini seperti, aktivitas belanja online, data pelanggan, produk, pesanan, pembayaran dan lain sebagainya."
   ]
  },
  {
   "cell_type": "markdown",
   "metadata": {
    "id": "FHSiqaZp8DC1"
   },
   "source": [
    "### Assessing Data"
   ]
  },
  {
   "cell_type": "code",
   "execution_count": 20,
   "metadata": {
    "id": "ax-3tEjc9Cj1"
   },
   "outputs": [
    {
     "name": "stdout",
     "output_type": "stream",
     "text": [
      "<class 'pandas.core.frame.DataFrame'>\n",
      "RangeIndex: 99441 entries, 0 to 99440\n",
      "Data columns (total 5 columns):\n",
      " #   Column                    Non-Null Count  Dtype \n",
      "---  ------                    --------------  ----- \n",
      " 0   customer_id               99441 non-null  object\n",
      " 1   customer_unique_id        99441 non-null  object\n",
      " 2   customer_zip_code_prefix  99441 non-null  int64 \n",
      " 3   customer_city             99441 non-null  object\n",
      " 4   customer_state            99441 non-null  object\n",
      "dtypes: int64(1), object(4)\n",
      "memory usage: 3.8+ MB\n",
      "\n",
      "<class 'pandas.core.frame.DataFrame'>\n",
      "RangeIndex: 1000163 entries, 0 to 1000162\n",
      "Data columns (total 5 columns):\n",
      " #   Column                       Non-Null Count    Dtype  \n",
      "---  ------                       --------------    -----  \n",
      " 0   geolocation_zip_code_prefix  1000163 non-null  int64  \n",
      " 1   geolocation_lat              1000163 non-null  float64\n",
      " 2   geolocation_lng              1000163 non-null  float64\n",
      " 3   geolocation_city             1000163 non-null  object \n",
      " 4   geolocation_state            1000163 non-null  object \n",
      "dtypes: float64(2), int64(1), object(2)\n",
      "memory usage: 38.2+ MB\n",
      "\n",
      "<class 'pandas.core.frame.DataFrame'>\n",
      "RangeIndex: 112650 entries, 0 to 112649\n",
      "Data columns (total 7 columns):\n",
      " #   Column               Non-Null Count   Dtype  \n",
      "---  ------               --------------   -----  \n",
      " 0   order_id             112650 non-null  object \n",
      " 1   order_item_id        112650 non-null  int64  \n",
      " 2   product_id           112650 non-null  object \n",
      " 3   seller_id            112650 non-null  object \n",
      " 4   shipping_limit_date  112650 non-null  object \n",
      " 5   price                112650 non-null  float64\n",
      " 6   freight_value        112650 non-null  float64\n",
      "dtypes: float64(2), int64(1), object(4)\n",
      "memory usage: 6.0+ MB\n",
      "\n",
      "<class 'pandas.core.frame.DataFrame'>\n",
      "RangeIndex: 103886 entries, 0 to 103885\n",
      "Data columns (total 5 columns):\n",
      " #   Column                Non-Null Count   Dtype  \n",
      "---  ------                --------------   -----  \n",
      " 0   order_id              103886 non-null  object \n",
      " 1   payment_sequential    103886 non-null  int64  \n",
      " 2   payment_type          103886 non-null  object \n",
      " 3   payment_installments  103886 non-null  int64  \n",
      " 4   payment_value         103886 non-null  float64\n",
      "dtypes: float64(1), int64(2), object(2)\n",
      "memory usage: 4.0+ MB\n",
      "\n",
      "<class 'pandas.core.frame.DataFrame'>\n",
      "RangeIndex: 99224 entries, 0 to 99223\n",
      "Data columns (total 7 columns):\n",
      " #   Column                   Non-Null Count  Dtype \n",
      "---  ------                   --------------  ----- \n",
      " 0   review_id                99224 non-null  object\n",
      " 1   order_id                 99224 non-null  object\n",
      " 2   review_score             99224 non-null  int64 \n",
      " 3   review_comment_title     11568 non-null  object\n",
      " 4   review_comment_message   40977 non-null  object\n",
      " 5   review_creation_date     99224 non-null  object\n",
      " 6   review_answer_timestamp  99224 non-null  object\n",
      "dtypes: int64(1), object(6)\n",
      "memory usage: 5.3+ MB\n",
      "\n",
      "<class 'pandas.core.frame.DataFrame'>\n",
      "RangeIndex: 99441 entries, 0 to 99440\n",
      "Data columns (total 8 columns):\n",
      " #   Column                         Non-Null Count  Dtype \n",
      "---  ------                         --------------  ----- \n",
      " 0   order_id                       99441 non-null  object\n",
      " 1   customer_id                    99441 non-null  object\n",
      " 2   order_status                   99441 non-null  object\n",
      " 3   order_purchase_timestamp       99441 non-null  object\n",
      " 4   order_approved_at              99281 non-null  object\n",
      " 5   order_delivered_carrier_date   97658 non-null  object\n",
      " 6   order_delivered_customer_date  96476 non-null  object\n",
      " 7   order_estimated_delivery_date  99441 non-null  object\n",
      "dtypes: object(8)\n",
      "memory usage: 6.1+ MB\n",
      "\n",
      "<class 'pandas.core.frame.DataFrame'>\n",
      "RangeIndex: 32951 entries, 0 to 32950\n",
      "Data columns (total 9 columns):\n",
      " #   Column                      Non-Null Count  Dtype  \n",
      "---  ------                      --------------  -----  \n",
      " 0   product_id                  32951 non-null  object \n",
      " 1   product_category_name       32341 non-null  object \n",
      " 2   product_name_lenght         32341 non-null  float64\n",
      " 3   product_description_lenght  32341 non-null  float64\n",
      " 4   product_photos_qty          32341 non-null  float64\n",
      " 5   product_weight_g            32949 non-null  float64\n",
      " 6   product_length_cm           32949 non-null  float64\n",
      " 7   product_height_cm           32949 non-null  float64\n",
      " 8   product_width_cm            32949 non-null  float64\n",
      "dtypes: float64(7), object(2)\n",
      "memory usage: 2.3+ MB\n",
      "\n",
      "<class 'pandas.core.frame.DataFrame'>\n",
      "RangeIndex: 3095 entries, 0 to 3094\n",
      "Data columns (total 4 columns):\n",
      " #   Column                  Non-Null Count  Dtype \n",
      "---  ------                  --------------  ----- \n",
      " 0   seller_id               3095 non-null   object\n",
      " 1   seller_zip_code_prefix  3095 non-null   int64 \n",
      " 2   seller_city             3095 non-null   object\n",
      " 3   seller_state            3095 non-null   object\n",
      "dtypes: int64(1), object(3)\n",
      "memory usage: 96.8+ KB\n",
      "\n",
      "<class 'pandas.core.frame.DataFrame'>\n",
      "RangeIndex: 71 entries, 0 to 70\n",
      "Data columns (total 2 columns):\n",
      " #   Column                         Non-Null Count  Dtype \n",
      "---  ------                         --------------  ----- \n",
      " 0   product_category_name          71 non-null     object\n",
      " 1   product_category_name_english  71 non-null     object\n",
      "dtypes: object(2)\n",
      "memory usage: 1.2+ KB\n"
     ]
    }
   ],
   "source": [
    "cust_df.info()\n",
    "print()\n",
    "geoloc_df.info()\n",
    "print()\n",
    "order_item_df.info()\n",
    "print()\n",
    "order_payment_df.info()\n",
    "print()\n",
    "order_reviews_df.info()\n",
    "print()\n",
    "orders_df.info()\n",
    "print()\n",
    "products_df.info()\n",
    "print()\n",
    "sellers_df.info()\n",
    "print()\n",
    "translate_df.info()\n"
   ]
  },
  {
   "cell_type": "code",
   "execution_count": 21,
   "metadata": {},
   "outputs": [
    {
     "name": "stdout",
     "output_type": "stream",
     "text": [
      "Order Payments Dataset Info:\n",
      "<class 'pandas.core.frame.DataFrame'>\n",
      "RangeIndex: 103886 entries, 0 to 103885\n",
      "Data columns (total 5 columns):\n",
      " #   Column                Non-Null Count   Dtype  \n",
      "---  ------                --------------   -----  \n",
      " 0   order_id              103886 non-null  object \n",
      " 1   payment_sequential    103886 non-null  int64  \n",
      " 2   payment_type          103886 non-null  object \n",
      " 3   payment_installments  103886 non-null  int64  \n",
      " 4   payment_value         103886 non-null  float64\n",
      "dtypes: float64(1), int64(2), object(2)\n",
      "memory usage: 4.0+ MB\n",
      "None \n",
      "\n",
      "Order Items Dataset Info:\n",
      "<class 'pandas.core.frame.DataFrame'>\n",
      "RangeIndex: 112650 entries, 0 to 112649\n",
      "Data columns (total 7 columns):\n",
      " #   Column               Non-Null Count   Dtype  \n",
      "---  ------               --------------   -----  \n",
      " 0   order_id             112650 non-null  object \n",
      " 1   order_item_id        112650 non-null  int64  \n",
      " 2   product_id           112650 non-null  object \n",
      " 3   seller_id            112650 non-null  object \n",
      " 4   shipping_limit_date  112650 non-null  object \n",
      " 5   price                112650 non-null  float64\n",
      " 6   freight_value        112650 non-null  float64\n",
      "dtypes: float64(2), int64(1), object(4)\n",
      "memory usage: 6.0+ MB\n",
      "None \n",
      "\n",
      "Orders Dataset Info:\n",
      "<class 'pandas.core.frame.DataFrame'>\n",
      "RangeIndex: 99441 entries, 0 to 99440\n",
      "Data columns (total 8 columns):\n",
      " #   Column                         Non-Null Count  Dtype \n",
      "---  ------                         --------------  ----- \n",
      " 0   order_id                       99441 non-null  object\n",
      " 1   customer_id                    99441 non-null  object\n",
      " 2   order_status                   99441 non-null  object\n",
      " 3   order_purchase_timestamp       99441 non-null  object\n",
      " 4   order_approved_at              99281 non-null  object\n",
      " 5   order_delivered_carrier_date   97658 non-null  object\n",
      " 6   order_delivered_customer_date  96476 non-null  object\n",
      " 7   order_estimated_delivery_date  99441 non-null  object\n",
      "dtypes: object(8)\n",
      "memory usage: 6.1+ MB\n",
      "None \n",
      "\n",
      "Customers Dataset Info:\n",
      "<class 'pandas.core.frame.DataFrame'>\n",
      "RangeIndex: 99441 entries, 0 to 99440\n",
      "Data columns (total 5 columns):\n",
      " #   Column                    Non-Null Count  Dtype \n",
      "---  ------                    --------------  ----- \n",
      " 0   customer_id               99441 non-null  object\n",
      " 1   customer_unique_id        99441 non-null  object\n",
      " 2   customer_zip_code_prefix  99441 non-null  int64 \n",
      " 3   customer_city             99441 non-null  object\n",
      " 4   customer_state            99441 non-null  object\n",
      "dtypes: int64(1), object(4)\n",
      "memory usage: 3.8+ MB\n",
      "None \n",
      "\n",
      "Order Payments Dataset Descriptive Statistics:\n",
      "       payment_sequential  payment_installments  payment_value\n",
      "count       103886.000000         103886.000000  103886.000000\n",
      "mean             1.092679              2.853349     154.100380\n",
      "std              0.706584              2.687051     217.494064\n",
      "min              1.000000              0.000000       0.000000\n",
      "25%              1.000000              1.000000      56.790000\n",
      "50%              1.000000              1.000000     100.000000\n",
      "75%              1.000000              4.000000     171.837500\n",
      "max             29.000000             24.000000   13664.080000 \n",
      "\n",
      "Order Items Dataset Descriptive Statistics:\n",
      "       order_item_id          price  freight_value\n",
      "count  112650.000000  112650.000000  112650.000000\n",
      "mean        1.197834     120.653739      19.990320\n",
      "std         0.705124     183.633928      15.806405\n",
      "min         1.000000       0.850000       0.000000\n",
      "25%         1.000000      39.900000      13.080000\n",
      "50%         1.000000      74.990000      16.260000\n",
      "75%         1.000000     134.900000      21.150000\n",
      "max        21.000000    6735.000000     409.680000 \n",
      "\n",
      "Orders Dataset Descriptive Statistics:\n",
      "                                order_id                       customer_id  \\\n",
      "count                              99441                             99441   \n",
      "unique                             99441                             99441   \n",
      "top     66dea50a8b16d9b4dee7af250b4be1a5  edb027a75a1449115f6b43211ae02a24   \n",
      "freq                                   1                                 1   \n",
      "\n",
      "       order_status order_purchase_timestamp    order_approved_at  \\\n",
      "count         99441                    99441                99281   \n",
      "unique            8                    98875                90733   \n",
      "top       delivered      2018-08-02 12:05:26  2018-02-27 04:31:10   \n",
      "freq          96478                        3                    9   \n",
      "\n",
      "       order_delivered_carrier_date order_delivered_customer_date  \\\n",
      "count                         97658                         96476   \n",
      "unique                        81018                         95664   \n",
      "top             2018-05-09 15:48:00           2018-05-08 19:36:48   \n",
      "freq                             47                             3   \n",
      "\n",
      "       order_estimated_delivery_date  \n",
      "count                          99441  \n",
      "unique                           459  \n",
      "top              2017-12-20 00:00:00  \n",
      "freq                             522   \n",
      "\n",
      "Customers Dataset Descriptive Statistics:\n",
      "       customer_zip_code_prefix\n",
      "count              99441.000000\n",
      "mean               35137.474583\n",
      "std                29797.938996\n",
      "min                 1003.000000\n",
      "25%                11347.000000\n",
      "50%                24416.000000\n",
      "75%                58900.000000\n",
      "max                99990.000000 \n",
      "\n"
     ]
    }
   ],
   "source": [
    "# Menampilkan informasi dasar dari masing-masing dataset\n",
    "print(\"Order Payments Dataset Info:\")\n",
    "print(order_payment_df.info(), \"\\n\")\n",
    "\n",
    "print(\"Order Items Dataset Info:\")\n",
    "print(order_item_df.info(), \"\\n\")\n",
    "\n",
    "print(\"Orders Dataset Info:\")\n",
    "print(orders_df.info(), \"\\n\")\n",
    "\n",
    "print(\"Customers Dataset Info:\")\n",
    "print(cust_df.info(), \"\\n\")\n",
    "\n",
    "# Menampilkan statistik deskriptif untuk setiap dataset\n",
    "print(\"Order Payments Dataset Descriptive Statistics:\")\n",
    "print(order_payment_df.describe(), \"\\n\")\n",
    "\n",
    "print(\"Order Items Dataset Descriptive Statistics:\")\n",
    "print(order_item_df.describe(), \"\\n\")\n",
    "\n",
    "print(\"Orders Dataset Descriptive Statistics:\")\n",
    "print(orders_df.describe(), \"\\n\")\n",
    "\n",
    "print(\"Customers Dataset Descriptive Statistics:\")\n",
    "print(cust_df.describe(), \"\\n\")\n"
   ]
  },
  {
   "cell_type": "code",
   "execution_count": 22,
   "metadata": {},
   "outputs": [
    {
     "data": {
      "text/html": [
       "<style type=\"text/css\">\n",
       "#T_02126_row0_col1, #T_02126_row2_col1, #T_02126_row5_col1 {\n",
       "  background-color: #f1ebf4;\n",
       "  color: #000000;\n",
       "}\n",
       "#T_02126_row0_col2, #T_02126_row1_col2, #T_02126_row4_col2 {\n",
       "  background-color: #dbdaeb;\n",
       "  color: #000000;\n",
       "}\n",
       "#T_02126_row0_col3, #T_02126_row0_col4, #T_02126_row1_col3, #T_02126_row1_col4, #T_02126_row3_col3, #T_02126_row3_col4, #T_02126_row4_col3, #T_02126_row4_col4, #T_02126_row7_col1, #T_02126_row7_col2, #T_02126_row7_col3, #T_02126_row7_col4 {\n",
       "  background-color: #fff7fb;\n",
       "  color: #000000;\n",
       "}\n",
       "#T_02126_row1_col1, #T_02126_row5_col3, #T_02126_row6_col2, #T_02126_row6_col4 {\n",
       "  background-color: #023858;\n",
       "  color: #f1f1f1;\n",
       "}\n",
       "#T_02126_row2_col2 {\n",
       "  background-color: #0567a2;\n",
       "  color: #f1f1f1;\n",
       "}\n",
       "#T_02126_row2_col3 {\n",
       "  background-color: #faf3f9;\n",
       "  color: #000000;\n",
       "}\n",
       "#T_02126_row2_col4 {\n",
       "  background-color: #a5bddb;\n",
       "  color: #000000;\n",
       "}\n",
       "#T_02126_row3_col1 {\n",
       "  background-color: #eee9f3;\n",
       "  color: #000000;\n",
       "}\n",
       "#T_02126_row3_col2, #T_02126_row5_col2 {\n",
       "  background-color: #4295c3;\n",
       "  color: #f1f1f1;\n",
       "}\n",
       "#T_02126_row4_col1 {\n",
       "  background-color: #f0eaf4;\n",
       "  color: #000000;\n",
       "}\n",
       "#T_02126_row5_col4 {\n",
       "  background-color: #d0d1e6;\n",
       "  color: #000000;\n",
       "}\n",
       "#T_02126_row6_col1 {\n",
       "  background-color: #fbf3f9;\n",
       "  color: #000000;\n",
       "}\n",
       "#T_02126_row6_col3 {\n",
       "  background-color: #fdf5fa;\n",
       "  color: #000000;\n",
       "}\n",
       "</style>\n",
       "<table id=\"T_02126\">\n",
       "  <thead>\n",
       "    <tr>\n",
       "      <th class=\"blank level0\" >&nbsp;</th>\n",
       "      <th id=\"T_02126_level0_col0\" class=\"col_heading level0 col0\" >dataset</th>\n",
       "      <th id=\"T_02126_level0_col1\" class=\"col_heading level0 col1\" >n_rows</th>\n",
       "      <th id=\"T_02126_level0_col2\" class=\"col_heading level0 col2\" >n_cols</th>\n",
       "      <th id=\"T_02126_level0_col3\" class=\"col_heading level0 col3\" >null_amount</th>\n",
       "      <th id=\"T_02126_level0_col4\" class=\"col_heading level0 col4\" >qty_null_columns</th>\n",
       "      <th id=\"T_02126_level0_col5\" class=\"col_heading level0 col5\" >null_columns</th>\n",
       "    </tr>\n",
       "  </thead>\n",
       "  <tbody>\n",
       "    <tr>\n",
       "      <th id=\"T_02126_level0_row0\" class=\"row_heading level0 row0\" >0</th>\n",
       "      <td id=\"T_02126_row0_col0\" class=\"data row0 col0\" >cust_df</td>\n",
       "      <td id=\"T_02126_row0_col1\" class=\"data row0 col1\" >99441</td>\n",
       "      <td id=\"T_02126_row0_col2\" class=\"data row0 col2\" >5</td>\n",
       "      <td id=\"T_02126_row0_col3\" class=\"data row0 col3\" >0</td>\n",
       "      <td id=\"T_02126_row0_col4\" class=\"data row0 col4\" >0</td>\n",
       "      <td id=\"T_02126_row0_col5\" class=\"data row0 col5\" ></td>\n",
       "    </tr>\n",
       "    <tr>\n",
       "      <th id=\"T_02126_level0_row1\" class=\"row_heading level0 row1\" >1</th>\n",
       "      <td id=\"T_02126_row1_col0\" class=\"data row1 col0\" >geoloc_df</td>\n",
       "      <td id=\"T_02126_row1_col1\" class=\"data row1 col1\" >1000163</td>\n",
       "      <td id=\"T_02126_row1_col2\" class=\"data row1 col2\" >5</td>\n",
       "      <td id=\"T_02126_row1_col3\" class=\"data row1 col3\" >0</td>\n",
       "      <td id=\"T_02126_row1_col4\" class=\"data row1 col4\" >0</td>\n",
       "      <td id=\"T_02126_row1_col5\" class=\"data row1 col5\" ></td>\n",
       "    </tr>\n",
       "    <tr>\n",
       "      <th id=\"T_02126_level0_row2\" class=\"row_heading level0 row2\" >2</th>\n",
       "      <td id=\"T_02126_row2_col0\" class=\"data row2 col0\" >orders_df</td>\n",
       "      <td id=\"T_02126_row2_col1\" class=\"data row2 col1\" >99441</td>\n",
       "      <td id=\"T_02126_row2_col2\" class=\"data row2 col2\" >8</td>\n",
       "      <td id=\"T_02126_row2_col3\" class=\"data row2 col3\" >4908</td>\n",
       "      <td id=\"T_02126_row2_col4\" class=\"data row2 col4\" >3</td>\n",
       "      <td id=\"T_02126_row2_col5\" class=\"data row2 col5\" >order_approved_at, order_delivered_carrier_date, order_delivered_customer_date</td>\n",
       "    </tr>\n",
       "    <tr>\n",
       "      <th id=\"T_02126_level0_row3\" class=\"row_heading level0 row3\" >3</th>\n",
       "      <td id=\"T_02126_row3_col0\" class=\"data row3 col0\" >order_item_df</td>\n",
       "      <td id=\"T_02126_row3_col1\" class=\"data row3 col1\" >112650</td>\n",
       "      <td id=\"T_02126_row3_col2\" class=\"data row3 col2\" >7</td>\n",
       "      <td id=\"T_02126_row3_col3\" class=\"data row3 col3\" >0</td>\n",
       "      <td id=\"T_02126_row3_col4\" class=\"data row3 col4\" >0</td>\n",
       "      <td id=\"T_02126_row3_col5\" class=\"data row3 col5\" ></td>\n",
       "    </tr>\n",
       "    <tr>\n",
       "      <th id=\"T_02126_level0_row4\" class=\"row_heading level0 row4\" >4</th>\n",
       "      <td id=\"T_02126_row4_col0\" class=\"data row4 col0\" >order_payment_df</td>\n",
       "      <td id=\"T_02126_row4_col1\" class=\"data row4 col1\" >103886</td>\n",
       "      <td id=\"T_02126_row4_col2\" class=\"data row4 col2\" >5</td>\n",
       "      <td id=\"T_02126_row4_col3\" class=\"data row4 col3\" >0</td>\n",
       "      <td id=\"T_02126_row4_col4\" class=\"data row4 col4\" >0</td>\n",
       "      <td id=\"T_02126_row4_col5\" class=\"data row4 col5\" ></td>\n",
       "    </tr>\n",
       "    <tr>\n",
       "      <th id=\"T_02126_level0_row5\" class=\"row_heading level0 row5\" >5</th>\n",
       "      <td id=\"T_02126_row5_col0\" class=\"data row5 col0\" >order_reviews_df</td>\n",
       "      <td id=\"T_02126_row5_col1\" class=\"data row5 col1\" >99224</td>\n",
       "      <td id=\"T_02126_row5_col2\" class=\"data row5 col2\" >7</td>\n",
       "      <td id=\"T_02126_row5_col3\" class=\"data row5 col3\" >145903</td>\n",
       "      <td id=\"T_02126_row5_col4\" class=\"data row5 col4\" >2</td>\n",
       "      <td id=\"T_02126_row5_col5\" class=\"data row5 col5\" >review_comment_title, review_comment_message</td>\n",
       "    </tr>\n",
       "    <tr>\n",
       "      <th id=\"T_02126_level0_row6\" class=\"row_heading level0 row6\" >6</th>\n",
       "      <td id=\"T_02126_row6_col0\" class=\"data row6 col0\" >products_eng_df</td>\n",
       "      <td id=\"T_02126_row6_col1\" class=\"data row6 col1\" >32951</td>\n",
       "      <td id=\"T_02126_row6_col2\" class=\"data row6 col2\" >9</td>\n",
       "      <td id=\"T_02126_row6_col3\" class=\"data row6 col3\" >2461</td>\n",
       "      <td id=\"T_02126_row6_col4\" class=\"data row6 col4\" >8</td>\n",
       "      <td id=\"T_02126_row6_col5\" class=\"data row6 col5\" >product_category_name, product_name_lenght, product_description_lenght, product_photos_qty, product_weight_g, product_length_cm, product_height_cm, product_width_cm</td>\n",
       "    </tr>\n",
       "    <tr>\n",
       "      <th id=\"T_02126_level0_row7\" class=\"row_heading level0 row7\" >7</th>\n",
       "      <td id=\"T_02126_row7_col0\" class=\"data row7 col0\" >sellers_df</td>\n",
       "      <td id=\"T_02126_row7_col1\" class=\"data row7 col1\" >3095</td>\n",
       "      <td id=\"T_02126_row7_col2\" class=\"data row7 col2\" >4</td>\n",
       "      <td id=\"T_02126_row7_col3\" class=\"data row7 col3\" >0</td>\n",
       "      <td id=\"T_02126_row7_col4\" class=\"data row7 col4\" >0</td>\n",
       "      <td id=\"T_02126_row7_col5\" class=\"data row7 col5\" ></td>\n",
       "    </tr>\n",
       "  </tbody>\n",
       "</table>\n"
      ],
      "text/plain": [
       "<pandas.io.formats.style.Styler at 0x126443aff50>"
      ]
     },
     "execution_count": 22,
     "metadata": {},
     "output_type": "execute_result"
    }
   ],
   "source": [
    "# Collections for each dataset\n",
    "datasets = [cust_df, geoloc_df, orders_df, order_item_df, order_payment_df,\n",
    "            order_reviews_df, products_eng_df, sellers_df]\n",
    "names = ['cust_df', 'geoloc_df', 'orders_df', 'order_item_df', 'order_payment_df',\n",
    "         'order_reviews_df', 'products_eng_df', 'sellers_df']\n",
    "\n",
    "# Creating a DataFrame with useful information about all datasets\n",
    "data_info = pd.DataFrame({})\n",
    "data_info['dataset'] = names\n",
    "#[df.shape[0] for df in datasets] gives number of row count\n",
    "data_info['n_rows'] = [df.shape[0] for df in datasets]\n",
    "#[df.shape[1] for df in datasets] gives number of col count\n",
    "data_info['n_cols'] = [df.shape[1] for df in datasets]\n",
    "data_info['null_amount'] = [df.isnull().sum().sum()for df in datasets]\n",
    "data_info['qty_null_columns'] = [len([col for col, null in df.isnull().sum().items() if null > 0]) for df in datasets] #which columns have nulls\n",
    "data_info['null_columns'] = [', '.join([col for col, null in df.isnull().sum().items() if null > 0]) for df in datasets]\n",
    "data_info.style.background_gradient()"
   ]
  },
  {
   "cell_type": "markdown",
   "metadata": {
    "id": "EhN5R4hr8DC1"
   },
   "source": [
    "### Cleaning Data"
   ]
  },
  {
   "cell_type": "code",
   "execution_count": 23,
   "metadata": {},
   "outputs": [
    {
     "data": {
      "text/plain": [
       "customer_id                 0\n",
       "customer_unique_id          0\n",
       "customer_zip_code_prefix    0\n",
       "customer_city               0\n",
       "customer_state              0\n",
       "dtype: int64"
      ]
     },
     "execution_count": 23,
     "metadata": {},
     "output_type": "execute_result"
    }
   ],
   "source": [
    "cust_df.isna().sum()"
   ]
  },
  {
   "cell_type": "code",
   "execution_count": 24,
   "metadata": {},
   "outputs": [
    {
     "data": {
      "text/plain": [
       "geolocation_zip_code_prefix    0\n",
       "geolocation_lat                0\n",
       "geolocation_lng                0\n",
       "geolocation_city               0\n",
       "geolocation_state              0\n",
       "dtype: int64"
      ]
     },
     "execution_count": 24,
     "metadata": {},
     "output_type": "execute_result"
    }
   ],
   "source": [
    "geoloc_df.isna().sum()"
   ]
  },
  {
   "cell_type": "code",
   "execution_count": 25,
   "metadata": {},
   "outputs": [
    {
     "data": {
      "text/plain": [
       "order_id               0\n",
       "order_item_id          0\n",
       "product_id             0\n",
       "seller_id              0\n",
       "shipping_limit_date    0\n",
       "price                  0\n",
       "freight_value          0\n",
       "dtype: int64"
      ]
     },
     "execution_count": 25,
     "metadata": {},
     "output_type": "execute_result"
    }
   ],
   "source": [
    "order_item_df.isna().sum()"
   ]
  },
  {
   "cell_type": "code",
   "execution_count": 26,
   "metadata": {},
   "outputs": [
    {
     "data": {
      "text/plain": [
       "order_id                0\n",
       "payment_sequential      0\n",
       "payment_type            0\n",
       "payment_installments    0\n",
       "payment_value           0\n",
       "dtype: int64"
      ]
     },
     "execution_count": 26,
     "metadata": {},
     "output_type": "execute_result"
    }
   ],
   "source": [
    "order_payment_df.isna().sum()"
   ]
  },
  {
   "cell_type": "code",
   "execution_count": 27,
   "metadata": {},
   "outputs": [
    {
     "data": {
      "text/plain": [
       "review_id                      0\n",
       "order_id                       0\n",
       "review_score                   0\n",
       "review_comment_title       87656\n",
       "review_comment_message     58247\n",
       "review_creation_date           0\n",
       "review_answer_timestamp        0\n",
       "dtype: int64"
      ]
     },
     "execution_count": 27,
     "metadata": {},
     "output_type": "execute_result"
    }
   ],
   "source": [
    "order_reviews_df.isna().sum()"
   ]
  },
  {
   "cell_type": "code",
   "execution_count": 28,
   "metadata": {},
   "outputs": [
    {
     "data": {
      "text/plain": [
       "order_id                            0\n",
       "customer_id                         0\n",
       "order_status                        0\n",
       "order_purchase_timestamp            0\n",
       "order_approved_at                 160\n",
       "order_delivered_carrier_date     1783\n",
       "order_delivered_customer_date    2965\n",
       "order_estimated_delivery_date       0\n",
       "dtype: int64"
      ]
     },
     "execution_count": 28,
     "metadata": {},
     "output_type": "execute_result"
    }
   ],
   "source": [
    "orders_df.isna().sum()"
   ]
  },
  {
   "cell_type": "code",
   "execution_count": 29,
   "metadata": {},
   "outputs": [
    {
     "data": {
      "text/plain": [
       "product_id                      0\n",
       "product_category_name         610\n",
       "product_name_lenght           610\n",
       "product_description_lenght    610\n",
       "product_photos_qty            610\n",
       "product_weight_g                2\n",
       "product_length_cm               2\n",
       "product_height_cm               2\n",
       "product_width_cm                2\n",
       "dtype: int64"
      ]
     },
     "execution_count": 29,
     "metadata": {},
     "output_type": "execute_result"
    }
   ],
   "source": [
    "products_df.isna().sum()"
   ]
  },
  {
   "cell_type": "code",
   "execution_count": 30,
   "metadata": {},
   "outputs": [
    {
     "data": {
      "text/plain": [
       "seller_id                 0\n",
       "seller_zip_code_prefix    0\n",
       "seller_city               0\n",
       "seller_state              0\n",
       "dtype: int64"
      ]
     },
     "execution_count": 30,
     "metadata": {},
     "output_type": "execute_result"
    }
   ],
   "source": [
    "sellers_df.isna().sum()"
   ]
  },
  {
   "cell_type": "code",
   "execution_count": 31,
   "metadata": {},
   "outputs": [
    {
     "data": {
      "text/plain": [
       "product_category_name            0\n",
       "product_category_name_english    0\n",
       "dtype: int64"
      ]
     },
     "execution_count": 31,
     "metadata": {},
     "output_type": "execute_result"
    }
   ],
   "source": [
    "translate_df.isna().sum()"
   ]
  },
  {
   "cell_type": "markdown",
   "metadata": {
    "id": "Q_5ejIqckiSP"
   },
   "source": [
    "**Insight:**\n",
    "- Untuk menghapus beberapa missing value yang ada diatas, saya memakai berbagai macam method tergantung dengan tipe data dan banyak-nya data yang mengalami missing value.\n",
    "- Untuk mengecek kembali apakah kolom data yang sudah dibenarkan sudah tidak terdapat missing value, saya menggunakan method isna().sum()"
   ]
  },
  {
   "cell_type": "markdown",
   "metadata": {
    "id": "gp-Y6wU38DC1"
   },
   "source": [
    "## Exploratory Data Analysis (EDA)"
   ]
  },
  {
   "cell_type": "markdown",
   "metadata": {
    "id": "MW7WF2kr8DC1"
   },
   "source": [
    "### Explore ..."
   ]
  },
  {
   "cell_type": "markdown",
   "metadata": {},
   "source": [
    "Join Data agar lebih mudah meng-analisisnya di satu variabel"
   ]
  },
  {
   "cell_type": "code",
   "execution_count": 32,
   "metadata": {
    "id": "e9CQCZjk8DC2"
   },
   "outputs": [],
   "source": [
    "join_data= orders_df.merge(cust_df,on=\"customer_id\").merge(order_item_df, on=\"order_id\").merge(products_df,on=\"product_id\").merge(translate_df,on=\"product_category_name\").merge(order_payment_df,on=\"order_id\").merge(sellers_df,on=\"seller_id\").merge(order_reviews_df,on=\"order_id\")"
   ]
  },
  {
   "cell_type": "code",
   "execution_count": 33,
   "metadata": {},
   "outputs": [
    {
     "data": {
      "text/html": [
       "<div>\n",
       "<style scoped>\n",
       "    .dataframe tbody tr th:only-of-type {\n",
       "        vertical-align: middle;\n",
       "    }\n",
       "\n",
       "    .dataframe tbody tr th {\n",
       "        vertical-align: top;\n",
       "    }\n",
       "\n",
       "    .dataframe thead th {\n",
       "        text-align: right;\n",
       "    }\n",
       "</style>\n",
       "<table border=\"1\" class=\"dataframe\">\n",
       "  <thead>\n",
       "    <tr style=\"text-align: right;\">\n",
       "      <th></th>\n",
       "      <th>order_id</th>\n",
       "      <th>customer_id</th>\n",
       "      <th>order_status</th>\n",
       "      <th>order_purchase_timestamp</th>\n",
       "      <th>order_approved_at</th>\n",
       "      <th>order_delivered_carrier_date</th>\n",
       "      <th>order_delivered_customer_date</th>\n",
       "      <th>order_estimated_delivery_date</th>\n",
       "      <th>customer_unique_id</th>\n",
       "      <th>customer_zip_code_prefix</th>\n",
       "      <th>...</th>\n",
       "      <th>payment_value</th>\n",
       "      <th>seller_zip_code_prefix</th>\n",
       "      <th>seller_city</th>\n",
       "      <th>seller_state</th>\n",
       "      <th>review_id</th>\n",
       "      <th>review_score</th>\n",
       "      <th>review_comment_title</th>\n",
       "      <th>review_comment_message</th>\n",
       "      <th>review_creation_date</th>\n",
       "      <th>review_answer_timestamp</th>\n",
       "    </tr>\n",
       "  </thead>\n",
       "  <tbody>\n",
       "    <tr>\n",
       "      <th>0</th>\n",
       "      <td>e481f51cbdc54678b7cc49136f2d6af7</td>\n",
       "      <td>9ef432eb6251297304e76186b10a928d</td>\n",
       "      <td>delivered</td>\n",
       "      <td>2017-10-02 10:56:33</td>\n",
       "      <td>2017-10-02 11:07:15</td>\n",
       "      <td>2017-10-04 19:55:00</td>\n",
       "      <td>2017-10-10 21:25:13</td>\n",
       "      <td>2017-10-18 00:00:00</td>\n",
       "      <td>7c396fd4830fd04220f754e42b4e5bff</td>\n",
       "      <td>3149</td>\n",
       "      <td>...</td>\n",
       "      <td>18.12</td>\n",
       "      <td>9350</td>\n",
       "      <td>maua</td>\n",
       "      <td>SP</td>\n",
       "      <td>a54f0611adc9ed256b57ede6b6eb5114</td>\n",
       "      <td>4</td>\n",
       "      <td>NaN</td>\n",
       "      <td>Não testei o produto ainda, mas ele veio corre...</td>\n",
       "      <td>2017-10-11 00:00:00</td>\n",
       "      <td>2017-10-12 03:43:48</td>\n",
       "    </tr>\n",
       "    <tr>\n",
       "      <th>1</th>\n",
       "      <td>e481f51cbdc54678b7cc49136f2d6af7</td>\n",
       "      <td>9ef432eb6251297304e76186b10a928d</td>\n",
       "      <td>delivered</td>\n",
       "      <td>2017-10-02 10:56:33</td>\n",
       "      <td>2017-10-02 11:07:15</td>\n",
       "      <td>2017-10-04 19:55:00</td>\n",
       "      <td>2017-10-10 21:25:13</td>\n",
       "      <td>2017-10-18 00:00:00</td>\n",
       "      <td>7c396fd4830fd04220f754e42b4e5bff</td>\n",
       "      <td>3149</td>\n",
       "      <td>...</td>\n",
       "      <td>2.00</td>\n",
       "      <td>9350</td>\n",
       "      <td>maua</td>\n",
       "      <td>SP</td>\n",
       "      <td>a54f0611adc9ed256b57ede6b6eb5114</td>\n",
       "      <td>4</td>\n",
       "      <td>NaN</td>\n",
       "      <td>Não testei o produto ainda, mas ele veio corre...</td>\n",
       "      <td>2017-10-11 00:00:00</td>\n",
       "      <td>2017-10-12 03:43:48</td>\n",
       "    </tr>\n",
       "    <tr>\n",
       "      <th>2</th>\n",
       "      <td>e481f51cbdc54678b7cc49136f2d6af7</td>\n",
       "      <td>9ef432eb6251297304e76186b10a928d</td>\n",
       "      <td>delivered</td>\n",
       "      <td>2017-10-02 10:56:33</td>\n",
       "      <td>2017-10-02 11:07:15</td>\n",
       "      <td>2017-10-04 19:55:00</td>\n",
       "      <td>2017-10-10 21:25:13</td>\n",
       "      <td>2017-10-18 00:00:00</td>\n",
       "      <td>7c396fd4830fd04220f754e42b4e5bff</td>\n",
       "      <td>3149</td>\n",
       "      <td>...</td>\n",
       "      <td>18.59</td>\n",
       "      <td>9350</td>\n",
       "      <td>maua</td>\n",
       "      <td>SP</td>\n",
       "      <td>a54f0611adc9ed256b57ede6b6eb5114</td>\n",
       "      <td>4</td>\n",
       "      <td>NaN</td>\n",
       "      <td>Não testei o produto ainda, mas ele veio corre...</td>\n",
       "      <td>2017-10-11 00:00:00</td>\n",
       "      <td>2017-10-12 03:43:48</td>\n",
       "    </tr>\n",
       "    <tr>\n",
       "      <th>3</th>\n",
       "      <td>53cdb2fc8bc7dce0b6741e2150273451</td>\n",
       "      <td>b0830fb4747a6c6d20dea0b8c802d7ef</td>\n",
       "      <td>delivered</td>\n",
       "      <td>2018-07-24 20:41:37</td>\n",
       "      <td>2018-07-26 03:24:27</td>\n",
       "      <td>2018-07-26 14:31:00</td>\n",
       "      <td>2018-08-07 15:27:45</td>\n",
       "      <td>2018-08-13 00:00:00</td>\n",
       "      <td>af07308b275d755c9edb36a90c618231</td>\n",
       "      <td>47813</td>\n",
       "      <td>...</td>\n",
       "      <td>141.46</td>\n",
       "      <td>31570</td>\n",
       "      <td>belo horizonte</td>\n",
       "      <td>SP</td>\n",
       "      <td>8d5266042046a06655c8db133d120ba5</td>\n",
       "      <td>4</td>\n",
       "      <td>Muito boa a loja</td>\n",
       "      <td>Muito bom o produto.</td>\n",
       "      <td>2018-08-08 00:00:00</td>\n",
       "      <td>2018-08-08 18:37:50</td>\n",
       "    </tr>\n",
       "    <tr>\n",
       "      <th>4</th>\n",
       "      <td>47770eb9100c2d0c44946d9cf07ec65d</td>\n",
       "      <td>41ce2a54c0b03bf3443c3d931a367089</td>\n",
       "      <td>delivered</td>\n",
       "      <td>2018-08-08 08:38:49</td>\n",
       "      <td>2018-08-08 08:55:23</td>\n",
       "      <td>2018-08-08 13:50:00</td>\n",
       "      <td>2018-08-17 18:06:29</td>\n",
       "      <td>2018-09-04 00:00:00</td>\n",
       "      <td>3a653a41f6f9fc3d2a113cf8398680e8</td>\n",
       "      <td>75265</td>\n",
       "      <td>...</td>\n",
       "      <td>179.12</td>\n",
       "      <td>14840</td>\n",
       "      <td>guariba</td>\n",
       "      <td>SP</td>\n",
       "      <td>e73b67b67587f7644d5bd1a52deb1b01</td>\n",
       "      <td>5</td>\n",
       "      <td>NaN</td>\n",
       "      <td>NaN</td>\n",
       "      <td>2018-08-18 00:00:00</td>\n",
       "      <td>2018-08-22 19:07:58</td>\n",
       "    </tr>\n",
       "  </tbody>\n",
       "</table>\n",
       "<p>5 rows × 40 columns</p>\n",
       "</div>"
      ],
      "text/plain": [
       "                           order_id                       customer_id  \\\n",
       "0  e481f51cbdc54678b7cc49136f2d6af7  9ef432eb6251297304e76186b10a928d   \n",
       "1  e481f51cbdc54678b7cc49136f2d6af7  9ef432eb6251297304e76186b10a928d   \n",
       "2  e481f51cbdc54678b7cc49136f2d6af7  9ef432eb6251297304e76186b10a928d   \n",
       "3  53cdb2fc8bc7dce0b6741e2150273451  b0830fb4747a6c6d20dea0b8c802d7ef   \n",
       "4  47770eb9100c2d0c44946d9cf07ec65d  41ce2a54c0b03bf3443c3d931a367089   \n",
       "\n",
       "  order_status order_purchase_timestamp    order_approved_at  \\\n",
       "0    delivered      2017-10-02 10:56:33  2017-10-02 11:07:15   \n",
       "1    delivered      2017-10-02 10:56:33  2017-10-02 11:07:15   \n",
       "2    delivered      2017-10-02 10:56:33  2017-10-02 11:07:15   \n",
       "3    delivered      2018-07-24 20:41:37  2018-07-26 03:24:27   \n",
       "4    delivered      2018-08-08 08:38:49  2018-08-08 08:55:23   \n",
       "\n",
       "  order_delivered_carrier_date order_delivered_customer_date  \\\n",
       "0          2017-10-04 19:55:00           2017-10-10 21:25:13   \n",
       "1          2017-10-04 19:55:00           2017-10-10 21:25:13   \n",
       "2          2017-10-04 19:55:00           2017-10-10 21:25:13   \n",
       "3          2018-07-26 14:31:00           2018-08-07 15:27:45   \n",
       "4          2018-08-08 13:50:00           2018-08-17 18:06:29   \n",
       "\n",
       "  order_estimated_delivery_date                customer_unique_id  \\\n",
       "0           2017-10-18 00:00:00  7c396fd4830fd04220f754e42b4e5bff   \n",
       "1           2017-10-18 00:00:00  7c396fd4830fd04220f754e42b4e5bff   \n",
       "2           2017-10-18 00:00:00  7c396fd4830fd04220f754e42b4e5bff   \n",
       "3           2018-08-13 00:00:00  af07308b275d755c9edb36a90c618231   \n",
       "4           2018-09-04 00:00:00  3a653a41f6f9fc3d2a113cf8398680e8   \n",
       "\n",
       "   customer_zip_code_prefix  ... payment_value seller_zip_code_prefix  \\\n",
       "0                      3149  ...         18.12                   9350   \n",
       "1                      3149  ...          2.00                   9350   \n",
       "2                      3149  ...         18.59                   9350   \n",
       "3                     47813  ...        141.46                  31570   \n",
       "4                     75265  ...        179.12                  14840   \n",
       "\n",
       "      seller_city seller_state                         review_id review_score  \\\n",
       "0            maua           SP  a54f0611adc9ed256b57ede6b6eb5114            4   \n",
       "1            maua           SP  a54f0611adc9ed256b57ede6b6eb5114            4   \n",
       "2            maua           SP  a54f0611adc9ed256b57ede6b6eb5114            4   \n",
       "3  belo horizonte           SP  8d5266042046a06655c8db133d120ba5            4   \n",
       "4         guariba           SP  e73b67b67587f7644d5bd1a52deb1b01            5   \n",
       "\n",
       "   review_comment_title                             review_comment_message  \\\n",
       "0                   NaN  Não testei o produto ainda, mas ele veio corre...   \n",
       "1                   NaN  Não testei o produto ainda, mas ele veio corre...   \n",
       "2                   NaN  Não testei o produto ainda, mas ele veio corre...   \n",
       "3      Muito boa a loja                               Muito bom o produto.   \n",
       "4                   NaN                                                NaN   \n",
       "\n",
       "  review_creation_date  review_answer_timestamp  \n",
       "0  2017-10-11 00:00:00      2017-10-12 03:43:48  \n",
       "1  2017-10-11 00:00:00      2017-10-12 03:43:48  \n",
       "2  2017-10-11 00:00:00      2017-10-12 03:43:48  \n",
       "3  2018-08-08 00:00:00      2018-08-08 18:37:50  \n",
       "4  2018-08-18 00:00:00      2018-08-22 19:07:58  \n",
       "\n",
       "[5 rows x 40 columns]"
      ]
     },
     "execution_count": 33,
     "metadata": {},
     "output_type": "execute_result"
    }
   ],
   "source": [
    "join_data.head()"
   ]
  },
  {
   "cell_type": "code",
   "execution_count": 34,
   "metadata": {},
   "outputs": [
    {
     "name": "stdout",
     "output_type": "stream",
     "text": [
      "                     customer_unique_id  payment_value\n",
      "3724   0a0a92112bd4c708ca5fde585afaa872      109312.64\n",
      "71634  c402f431464c72e27330a67f7b94d4fb       44048.00\n",
      "23445  4007669dec559734d6f53e029e360987       36489.24\n",
      "87489  ef8d54b3797ea4db1d63f0ced6a906e9       30186.00\n",
      "43207  763c8b1c9c68a0229c42c9fc6f662b93       29099.52\n",
      "...                                 ...            ...\n",
      "40726  6f5b9d1cdccc4d28f0483a612edecacf          11.63\n",
      "14826  2878e5b88167faab17d4fb83a986d38b          11.63\n",
      "65527  b33336f46234b24a613ad9064d13106d          10.89\n",
      "69097  bd06ce0e06ad77a7f681f1a4960a3cc6          10.07\n",
      "18134  317cfc692e3f86c45c95697c61c853a6           9.59\n",
      "\n",
      "[93396 rows x 2 columns]\n"
     ]
    }
   ],
   "source": [
    "top_customers= join_data.groupby(\"customer_unique_id\")[\"payment_value\"].sum().reset_index().sort_values(\"payment_value\", ascending=False)\n",
    "print(top_customers)\n"
   ]
  },
  {
   "cell_type": "markdown",
   "metadata": {
    "id": "th_Lzl2Fkj9O"
   },
   "source": [
    "**Insight:**\n",
    "- Dari Exploratory Data Analysis diatas saya bisa mengkaitkan beberapa kolom yang berpotensi ada relasi-nya, seperti product dengan seller, produk dengan geolokasi, dan sebagai-nya\n",
    "- dan juga saya melakukan perhitungan secara kasar menggunakan code saja untuk bisa melihat hasil dari siapa yang belanja paling banyak sebelum nanti di visualisasikan."
   ]
  },
  {
   "cell_type": "markdown",
   "metadata": {
    "id": "zsyZjqak8DC2"
   },
   "source": [
    "## Visualization & Explanatory Analysis"
   ]
  },
  {
   "cell_type": "markdown",
   "metadata": {
    "id": "HZxOiQ6n8DC2"
   },
   "source": [
    "### Pertanyaan 1: Customer paling banyak belanja"
   ]
  },
  {
   "cell_type": "code",
   "execution_count": 35,
   "metadata": {},
   "outputs": [
    {
     "data": {
      "text/plain": [
       "Text(42000, 70, '40000 customers (sekitar 42% dari total customer) \\nberkontribusi sekitar 80% dari total sales.')"
      ]
     },
     "execution_count": 35,
     "metadata": {},
     "output_type": "execute_result"
    },
    {
     "data": {
      "image/png": "[encoded data removed]",
      "text/plain": [
       "<Figure size 1200x900 with 1 Axes>"
      ]
     },
     "metadata": {},
     "output_type": "display_data"
    }
   ],
   "source": [
    "#Plotting\n",
    "plt.figure(figsize=(12,9))\n",
    "top_customers[\"% of Total Sales\"] = (top_customers[\"payment_value\"] / top_customers[\"payment_value\"].sum()) * 100\n",
    "top_customers[\"Cum % of Total Sales\"] = top_customers[\"% of Total Sales\"].cumsum()\n",
    "ax = sns.lineplot(x=range(1,len(top_customers)+1), y=\"Cum % of Total Sales\", data=top_customers)\n",
    "ax.set_xlabel(\"N = Customer\")\n",
    "ax.set_title(\"% Kontribusi ke Bagian Sales dari banyaknya customer\")\n",
    "\n",
    "#filling with color the strongest cumulative part\n",
    "a=np.arange(1,len(top_customers)+1)\n",
    "b=top_customers[\"Cum % of Total Sales\"]\n",
    "plt.fill_between(a, b, 0,\n",
    "                 where = (a >= 0) & (a <= 40000),\n",
    "                 color = 'r')\n",
    "ax.text(42000, 70, \"\"\"40000 customers (sekitar 42% dari total customer) \n",
    "berkontribusi sekitar 80% dari total sales.\"\"\", fontsize=14)\n"
   ]
  },
  {
   "cell_type": "code",
   "execution_count": 36,
   "metadata": {},
   "outputs": [
    {
     "data": {
      "text/plain": [
       "Text(0.5, 1.0, 'Top 10 Customer paling banyak belanja')"
      ]
     },
     "execution_count": 36,
     "metadata": {},
     "output_type": "execute_result"
    },
    {
     "data": {
      "image/png": "[encoded data removed]",
      "text/plain": [
       "<Figure size 640x480 with 1 Axes>"
      ]
     },
     "metadata": {},
     "output_type": "display_data"
    }
   ],
   "source": [
    "ax = sns.barplot(x=\"payment_value\", y=\"customer_unique_id\", data=top_customers[:10])\n",
    "ax.set_title(\"Top 10 Customer paling banyak belanja\")"
   ]
  },
  {
   "cell_type": "markdown",
   "metadata": {},
   "source": [
    "**Insight**\n",
    "- Berdasarkan dari tabel Plot diatas, kita dapat menyimpulkan bahwa customer dengan unique id seperti yang tertera itu menjadi tukang belanja yang paling banyak.\n",
    "- Berdasarkan Tabel Plot diagram merah kita bisa menyimpulkan bahwa kontribusi sales 80% berasal dari customer, yang mana itu sangat besar bagi perusahaan."
   ]
  },
  {
   "cell_type": "markdown",
   "metadata": {
    "id": "DgHI7CiU8DC2"
   },
   "source": [
    "### Pertanyaan 2: Kota Paling banyak belanja"
   ]
  },
  {
   "cell_type": "code",
   "execution_count": 37,
   "metadata": {},
   "outputs": [
    {
     "data": {
      "text/plain": [
       "Text(0, 0.5, 'Banyaknya Customer')"
      ]
     },
     "execution_count": 37,
     "metadata": {},
     "output_type": "execute_result"
    },
    {
     "data": {
      "image/png": "[encoded data removed]",
      "text/plain": [
       "<Figure size 1500x800 with 1 Axes>"
      ]
     },
     "metadata": {},
     "output_type": "display_data"
    }
   ],
   "source": [
    "plt.figure(figsize=(15,8))\n",
    "sns.countplot(x='customer_state', data=join_data)\n",
    "plt.title('Daerah Paling banyak belanja')\n",
    "plt.xlabel('Kota')\n",
    "plt.ylabel('Banyaknya Customer')"
   ]
  },
  {
   "cell_type": "markdown",
   "metadata": {
    "id": "_0-36BDLklRg"
   },
   "source": [
    "**Insight:**\n",
    "- Dari Tabel Plot diatas saya bisa menginformasikan bahwa, kota SP lah yang paling banyak berbelanja.\n",
    "- Dan juga ada beberapa kota yang potensial untuk bisa menjadi kota paling banyak berbelanja lain-nya, seperti kota PR,RJ,RS,MG, dan SC, selain kota itu kelihatannyaa relatif rendah."
   ]
  },
  {
   "cell_type": "markdown",
   "metadata": {
    "id": "9y4VUsmcYNZ5"
   },
   "source": [
    "## Analisis Lanjutan (Opsional) RFM(Recency, Frequency, Monetary)"
   ]
  },
  {
   "cell_type": "markdown",
   "metadata": {},
   "source": [
    "Menghitung Recency dari customer, tanggal terakhir customer membeli, saya me rename order_purchase_timestamp menjagi Last_purchase_date agar lebih mudah dibaca,terakhir convert last_purchase_date menjadi tanggal."
   ]
  },
  {
   "cell_type": "code",
   "execution_count": 38,
   "metadata": {
    "id": "iWhnzsJGYUCO"
   },
   "outputs": [
    {
     "data": {
      "text/html": [
       "<div>\n",
       "<style scoped>\n",
       "    .dataframe tbody tr th:only-of-type {\n",
       "        vertical-align: middle;\n",
       "    }\n",
       "\n",
       "    .dataframe tbody tr th {\n",
       "        vertical-align: top;\n",
       "    }\n",
       "\n",
       "    .dataframe thead th {\n",
       "        text-align: right;\n",
       "    }\n",
       "</style>\n",
       "<table border=\"1\" class=\"dataframe\">\n",
       "  <thead>\n",
       "    <tr style=\"text-align: right;\">\n",
       "      <th></th>\n",
       "      <th>customer_unique_id</th>\n",
       "      <th>Last_purchase_date</th>\n",
       "      <th>Recency</th>\n",
       "    </tr>\n",
       "  </thead>\n",
       "  <tbody>\n",
       "    <tr>\n",
       "      <th>0</th>\n",
       "      <td>0000366f3b9a7992bf8c76cfdf3221e2</td>\n",
       "      <td>2018-05-10 10:56:27</td>\n",
       "      <td>115</td>\n",
       "    </tr>\n",
       "    <tr>\n",
       "      <th>1</th>\n",
       "      <td>0000b849f77a49e4a4ce2b2a4ca5be3f</td>\n",
       "      <td>2018-05-07 11:11:27</td>\n",
       "      <td>118</td>\n",
       "    </tr>\n",
       "    <tr>\n",
       "      <th>2</th>\n",
       "      <td>0000f46a3911fa3c0805444483337064</td>\n",
       "      <td>2017-03-10 21:05:03</td>\n",
       "      <td>541</td>\n",
       "    </tr>\n",
       "    <tr>\n",
       "      <th>3</th>\n",
       "      <td>0000f6ccb0745a6a4b88665a16c9f078</td>\n",
       "      <td>2017-10-12 20:29:41</td>\n",
       "      <td>325</td>\n",
       "    </tr>\n",
       "    <tr>\n",
       "      <th>4</th>\n",
       "      <td>0004aac84e0df4da2b147fca70cf8255</td>\n",
       "      <td>2017-11-14 19:45:42</td>\n",
       "      <td>292</td>\n",
       "    </tr>\n",
       "  </tbody>\n",
       "</table>\n",
       "</div>"
      ],
      "text/plain": [
       "                 customer_unique_id  Last_purchase_date  Recency\n",
       "0  0000366f3b9a7992bf8c76cfdf3221e2 2018-05-10 10:56:27      115\n",
       "1  0000b849f77a49e4a4ce2b2a4ca5be3f 2018-05-07 11:11:27      118\n",
       "2  0000f46a3911fa3c0805444483337064 2017-03-10 21:05:03      541\n",
       "3  0000f6ccb0745a6a4b88665a16c9f078 2017-10-12 20:29:41      325\n",
       "4  0004aac84e0df4da2b147fca70cf8255 2017-11-14 19:45:42      292"
      ]
     },
     "execution_count": 38,
     "metadata": {},
     "output_type": "execute_result"
    }
   ],
   "source": [
    "df_recency=join_data.groupby(by=\"customer_unique_id\", as_index=False)[\"order_purchase_timestamp\"].max()\n",
    "df_recency.rename(columns={\"order_purchase_timestamp\":\"Last_purchase_date\"}, inplace=True)\n",
    "df_recency[\"Last_purchase_date\"]=pd.to_datetime(df_recency[\"Last_purchase_date\"])\n",
    "recent_date=pd.to_datetime(join_data[\"order_purchase_timestamp\"]).max()\n",
    "df_recency[\"Recency\"]=df_recency[\"Last_purchase_date\"].apply(lambda x=None: (recent_date - x).days)\n",
    "df_recency.head()"
   ]
  },
  {
   "cell_type": "markdown",
   "metadata": {},
   "source": [
    "Menghitung frekuensi customer menggunakan customer_unique_id menggunakan method .agg dan juga nunique"
   ]
  },
  {
   "cell_type": "code",
   "execution_count": 39,
   "metadata": {},
   "outputs": [
    {
     "data": {
      "text/html": [
       "<div>\n",
       "<style scoped>\n",
       "    .dataframe tbody tr th:only-of-type {\n",
       "        vertical-align: middle;\n",
       "    }\n",
       "\n",
       "    .dataframe tbody tr th {\n",
       "        vertical-align: top;\n",
       "    }\n",
       "\n",
       "    .dataframe thead th {\n",
       "        text-align: right;\n",
       "    }\n",
       "</style>\n",
       "<table border=\"1\" class=\"dataframe\">\n",
       "  <thead>\n",
       "    <tr style=\"text-align: right;\">\n",
       "      <th></th>\n",
       "      <th>customer_unique_id</th>\n",
       "      <th>Frequency</th>\n",
       "    </tr>\n",
       "  </thead>\n",
       "  <tbody>\n",
       "    <tr>\n",
       "      <th>0</th>\n",
       "      <td>0000366f3b9a7992bf8c76cfdf3221e2</td>\n",
       "      <td>1</td>\n",
       "    </tr>\n",
       "    <tr>\n",
       "      <th>1</th>\n",
       "      <td>0000b849f77a49e4a4ce2b2a4ca5be3f</td>\n",
       "      <td>1</td>\n",
       "    </tr>\n",
       "    <tr>\n",
       "      <th>2</th>\n",
       "      <td>0000f46a3911fa3c0805444483337064</td>\n",
       "      <td>1</td>\n",
       "    </tr>\n",
       "    <tr>\n",
       "      <th>3</th>\n",
       "      <td>0000f6ccb0745a6a4b88665a16c9f078</td>\n",
       "      <td>1</td>\n",
       "    </tr>\n",
       "    <tr>\n",
       "      <th>4</th>\n",
       "      <td>0004aac84e0df4da2b147fca70cf8255</td>\n",
       "      <td>1</td>\n",
       "    </tr>\n",
       "  </tbody>\n",
       "</table>\n",
       "</div>"
      ],
      "text/plain": [
       "                 customer_unique_id  Frequency\n",
       "0  0000366f3b9a7992bf8c76cfdf3221e2          1\n",
       "1  0000b849f77a49e4a4ce2b2a4ca5be3f          1\n",
       "2  0000f46a3911fa3c0805444483337064          1\n",
       "3  0000f6ccb0745a6a4b88665a16c9f078          1\n",
       "4  0004aac84e0df4da2b147fca70cf8255          1"
      ]
     },
     "execution_count": 39,
     "metadata": {},
     "output_type": "execute_result"
    }
   ],
   "source": [
    "frequency_df=join_data.groupby([\"customer_unique_id\"]).agg({\"order_id\":\"nunique\"}).reset_index()\n",
    "frequency_df.rename(columns={\"order_id\":\"Frequency\"}, inplace=True)\n",
    "frequency_df.head()"
   ]
  },
  {
   "cell_type": "code",
   "execution_count": 40,
   "metadata": {},
   "outputs": [
    {
     "data": {
      "text/html": [
       "<div>\n",
       "<style scoped>\n",
       "    .dataframe tbody tr th:only-of-type {\n",
       "        vertical-align: middle;\n",
       "    }\n",
       "\n",
       "    .dataframe tbody tr th {\n",
       "        vertical-align: top;\n",
       "    }\n",
       "\n",
       "    .dataframe thead th {\n",
       "        text-align: right;\n",
       "    }\n",
       "</style>\n",
       "<table border=\"1\" class=\"dataframe\">\n",
       "  <thead>\n",
       "    <tr style=\"text-align: right;\">\n",
       "      <th></th>\n",
       "      <th>customer_unique_id</th>\n",
       "      <th>Monetary</th>\n",
       "    </tr>\n",
       "  </thead>\n",
       "  <tbody>\n",
       "    <tr>\n",
       "      <th>0</th>\n",
       "      <td>0000366f3b9a7992bf8c76cfdf3221e2</td>\n",
       "      <td>141.90</td>\n",
       "    </tr>\n",
       "    <tr>\n",
       "      <th>1</th>\n",
       "      <td>0000b849f77a49e4a4ce2b2a4ca5be3f</td>\n",
       "      <td>27.19</td>\n",
       "    </tr>\n",
       "    <tr>\n",
       "      <th>2</th>\n",
       "      <td>0000f46a3911fa3c0805444483337064</td>\n",
       "      <td>86.22</td>\n",
       "    </tr>\n",
       "    <tr>\n",
       "      <th>3</th>\n",
       "      <td>0000f6ccb0745a6a4b88665a16c9f078</td>\n",
       "      <td>43.62</td>\n",
       "    </tr>\n",
       "    <tr>\n",
       "      <th>4</th>\n",
       "      <td>0004aac84e0df4da2b147fca70cf8255</td>\n",
       "      <td>196.89</td>\n",
       "    </tr>\n",
       "  </tbody>\n",
       "</table>\n",
       "</div>"
      ],
      "text/plain": [
       "                 customer_unique_id  Monetary\n",
       "0  0000366f3b9a7992bf8c76cfdf3221e2    141.90\n",
       "1  0000b849f77a49e4a4ce2b2a4ca5be3f     27.19\n",
       "2  0000f46a3911fa3c0805444483337064     86.22\n",
       "3  0000f6ccb0745a6a4b88665a16c9f078     43.62\n",
       "4  0004aac84e0df4da2b147fca70cf8255    196.89"
      ]
     },
     "execution_count": 40,
     "metadata": {},
     "output_type": "execute_result"
    }
   ],
   "source": [
    "monetary_df=join_data.groupby(\"customer_unique_id\", as_index=False)[\"payment_value\"].sum()\n",
    "monetary_df.columns=[\"customer_unique_id\",\"Monetary\"]\n",
    "monetary_df.head()"
   ]
  },
  {
   "cell_type": "markdown",
   "metadata": {},
   "source": [
    "Gabungkan data data diatasa menjadi variabel rfm_df"
   ]
  },
  {
   "cell_type": "code",
   "execution_count": 41,
   "metadata": {},
   "outputs": [
    {
     "data": {
      "text/html": [
       "<div>\n",
       "<style scoped>\n",
       "    .dataframe tbody tr th:only-of-type {\n",
       "        vertical-align: middle;\n",
       "    }\n",
       "\n",
       "    .dataframe tbody tr th {\n",
       "        vertical-align: top;\n",
       "    }\n",
       "\n",
       "    .dataframe thead th {\n",
       "        text-align: right;\n",
       "    }\n",
       "</style>\n",
       "<table border=\"1\" class=\"dataframe\">\n",
       "  <thead>\n",
       "    <tr style=\"text-align: right;\">\n",
       "      <th></th>\n",
       "      <th>customer_unique_id</th>\n",
       "      <th>Recency</th>\n",
       "      <th>Frequency</th>\n",
       "      <th>Monetary</th>\n",
       "    </tr>\n",
       "  </thead>\n",
       "  <tbody>\n",
       "    <tr>\n",
       "      <th>0</th>\n",
       "      <td>0000366f3b9a7992bf8c76cfdf3221e2</td>\n",
       "      <td>115</td>\n",
       "      <td>1</td>\n",
       "      <td>141.90</td>\n",
       "    </tr>\n",
       "    <tr>\n",
       "      <th>1</th>\n",
       "      <td>0000b849f77a49e4a4ce2b2a4ca5be3f</td>\n",
       "      <td>118</td>\n",
       "      <td>1</td>\n",
       "      <td>27.19</td>\n",
       "    </tr>\n",
       "    <tr>\n",
       "      <th>2</th>\n",
       "      <td>0000f46a3911fa3c0805444483337064</td>\n",
       "      <td>541</td>\n",
       "      <td>1</td>\n",
       "      <td>86.22</td>\n",
       "    </tr>\n",
       "    <tr>\n",
       "      <th>3</th>\n",
       "      <td>0000f6ccb0745a6a4b88665a16c9f078</td>\n",
       "      <td>325</td>\n",
       "      <td>1</td>\n",
       "      <td>43.62</td>\n",
       "    </tr>\n",
       "    <tr>\n",
       "      <th>4</th>\n",
       "      <td>0004aac84e0df4da2b147fca70cf8255</td>\n",
       "      <td>292</td>\n",
       "      <td>1</td>\n",
       "      <td>196.89</td>\n",
       "    </tr>\n",
       "  </tbody>\n",
       "</table>\n",
       "</div>"
      ],
      "text/plain": [
       "                 customer_unique_id  Recency  Frequency  Monetary\n",
       "0  0000366f3b9a7992bf8c76cfdf3221e2      115          1    141.90\n",
       "1  0000b849f77a49e4a4ce2b2a4ca5be3f      118          1     27.19\n",
       "2  0000f46a3911fa3c0805444483337064      541          1     86.22\n",
       "3  0000f6ccb0745a6a4b88665a16c9f078      325          1     43.62\n",
       "4  0004aac84e0df4da2b147fca70cf8255      292          1    196.89"
      ]
     },
     "execution_count": 41,
     "metadata": {},
     "output_type": "execute_result"
    }
   ],
   "source": [
    "rf_df=df_recency.merge(frequency_df, on=\"customer_unique_id\")\n",
    "rfm_df=rf_df.merge(monetary_df, on=\"customer_unique_id\").drop(columns=\"Last_purchase_date\")\n",
    "rfm_df.head()"
   ]
  },
  {
   "cell_type": "markdown",
   "metadata": {
    "id": "_WeHlCeX8DC2"
   },
   "source": [
    "## Conclusion"
   ]
  },
  {
   "cell_type": "markdown",
   "metadata": {
    "id": "ZTcyR48Y8DC2"
   },
   "source": [
    "- Conclution pertanyaan 1 : Konklusi dari Analisis RFM\n",
    "\n",
    "Dari analisis RFM yang telah dilakukan, beberapa konklusi yang bisa diambil adalah:\n",
    "\n",
    "Identifikasi pelanggan berharga: Dengan menggunakan analisis RFM, kita dapat mengidentifikasi pelanggan yang memiliki nilai yang tinggi dan berpotensi menjadi pelanggan yang loyal.\n",
    "Segmentasi pelanggan: Analisis RFM memungkinkan kita untuk membagi pelanggan menjadi beberapa segmen berdasarkan perilaku dan nilai mereka, sehingga kita dapat membuat strategi pemasaran yang lebih efektif.\n",
    "\n",
    "Pengembangan strategi pemasaran: Dengan memahami perilaku dan nilai pelanggan, kita dapat mengembangkan strategi pemasaran yang lebih efektif untuk meningkatkan penjualan dan meningkatkan loyalitas pelanggan.\n",
    "\n",
    "Pengurangan biaya: Dengan mengidentifikasi pelanggan yang tidak berharga, kita dapat mengurangi biaya pemasaran dan meningkatkan efisiensi.\n",
    "Peningkatan loyalitas pelanggan: Dengan memahami perilaku dan nilai pelanggan, kita dapat meningkatkan loyalitas pelanggan dengan menawarkan produk dan layanan yang lebih sesuai dengan kebutuhan mereka.\n",
    "\n",
    "Dalam keseluruhan, analisis RFM dapat membantu kita untuk memahami perilaku dan nilai pelanggan, sehingga kita dapat membuat keputusan yang lebih efektif dalam strategi pemasaran dan meningkatkan kesuksesan bisnis.\n",
    "\n",
    "- Conclution pertanyaan 2 : Konklusi dari diagram diatas adalah :\n",
    "\n",
    "Daerah SP mendominasi jumlah customer. Ini menunjukkan bahwa mayoritas customer berasal dari daerah SP.\n",
    "Terdapat beberapa daerah dengan jumlah customer yang cukup tinggi, seperti BA, PR, RJ, RS, dan MG.\n",
    "Sebagian besar daerah lainnya memiliki jumlah customer yang relatif rendah.\n",
    "\n",
    "Konklusi Strategis:\n",
    "Fokuskan strategi marketing pada daerah dengan transaksi tinggi untuk meningkatkan penjualan.\n",
    "Upaya perlu dilakukan untuk meningkatkan transaksi di daerah dengan transaksi rendah.\n",
    "Investigasi lebih lanjut diperlukan untuk memahami faktor-faktor yang mempengaruhi transaksi di setiap daerah.\n",
    "\n",
    "Konklusi Bisnis:\n",
    "Penting untuk mempertimbangkan kedua faktor jumlah transaksi dan nilai transaksi untuk mendapatkan gambaran yang lebih komprehensif.\n",
    "Analisis ini dapat membantu dalam pengambilan keputusan bisnis yang lebih tepat dan efektif."
   ]
  }
 ],
 "metadata": {
  "colab": {
   "provenance": []
  },
  "kernelspec": {
   "display_name": "Python 3 (ipykernel)",
   "language": "python",
   "name": "python3"
  },
  "language_info": {
   "codemirror_mode": {
    "name": "ipython",
    "version": 3
   },
   "file_extension": ".py",
   "mimetype": "text/x-python",
   "name": "python",
   "nbconvert_exporter": "python",
   "pygments_lexer": "ipython3",
   "version": "3.12.4"
  },
  "vscode": {
   "interpreter": {
    "hash": "972b3bf27e332e87b5379f2791f6ef9dfc79c71018c370b0d7423235e20fe4d7"
   }
  }
 },
 "nbformat": 4,
 "nbformat_minor": 4
}
